{
 "cells": [
  {
   "attachments": {},
   "cell_type": "markdown",
   "metadata": {},
   "source": [
    "# Job Page Loading Helper\n",
    "\n",
    "This notebook provides tooling to create jobs from the images on the [wandb dockerhub](https://hub.docker.com/u/wandb), including:\n",
    "1. Create job from docker image\n",
    "2. Rename job to a user-friendly name\n",
    "3. Add example runs that will auto-populate the's `Clone from...` menu\n",
    "4. Delete the dummy run used to create the job initially\n",
    "\n",
    "\n",
    "Notes:\n",
    "1. Some jobs require a GPU to run.  These are prefixed with `gpu_` (e.g. `gpu_optimize_with_tensor_rt`)"
   ]
  },
  {
   "cell_type": "code",
   "execution_count": 1,
   "metadata": {},
   "outputs": [],
   "source": [
    "import wandb\n",
    "from wandb.sdk.internal.internal_api import Api as InternalApi\n",
    "from pathlib import Path\n",
    "import yaml\n",
    "from wandb.sdk.launch import launch_add\n",
    "from functools import partial\n",
    "import docker\n",
    "import click\n",
    "\n",
    "\n",
    "api = wandb.Api()\n",
    "iapi = InternalApi()\n",
    "\n",
    "entity = 'megatruong'\n",
    "project = 'jobs32'\n",
    "cpu_queue_name = 'q2'\n",
    "gpu_queue_name = 'gpu'\n",
    "tag = '134fcaf3d4b1499e69b426fad803b7e2cca85ab5'\n",
    "\n",
    "jobs_dir = 'jobs'\n",
    "LOADER_STR = \"__loader-delete-me__\"\n",
    "\n",
    "\n",
    "def load_job(jobname, entity, project, queue_name, tag):\n",
    "    img = jobname2img(jobname, tag)\n",
    "    wandb.termlog(f\"Creating job: {entity}/{project}/{img}\")\n",
    "    create_job(img, entity, project)\n",
    "    \n",
    "    registry = get_registry()\n",
    "    ui_name, ui_desc = registry[jobname]['name'], registry[jobname]['desc']\n",
    "    artname = jobname2artname(jobname, tag)\n",
    "    artpath = artname2artpath(artname, entity, project, tag='latest')\n",
    "    wandb.termlog(f\"Renaming job to: {ui_name}\")\n",
    "    rename_job(artpath, ui_name, ui_desc)\n",
    "    \n",
    "    new_artpath = artname2artpath(ui_name, entity, project, tag='latest')\n",
    "    wandb.termlog(\"Adding new example runs...\")\n",
    "    add_example_runs(new_artpath, entity, project, queue_name)\n",
    "\n",
    "\n",
    "def create_job(img, entity, project):\n",
    "    \"\"\"\n",
    "    Create a job by running the docker image.\n",
    "    The run will show as failed because there is no config, but that's ok.  It will get deleted later.\n",
    "    \"\"\"\n",
    "    \n",
    "    \n",
    "    # !docker run --env-file /Users/andrewtruong/.wandb_launch/env.list \\\n",
    "    #                 -e WANDB_ENTITY={entity} \\\n",
    "    #                 -e WANDB_PROJECT={project} \\\n",
    "    #                 -e WANDB_NAME={LOADER_STR} \\\n",
    "    #                 -e WANDB_DOCKER={img} \\\n",
    "    #                 --rm --net=host {img}\n",
    "                    \n",
    "    env = get_env(\"/Users/andrewtruong/.wandb_launch/env.list\")\n",
    "    env[\"WANDB_ENTITY\"] = entity\n",
    "    env[\"WANDB_PROJECT\"] = project\n",
    "    env[\"WANDB_NAME\"] = LOADER_STR\n",
    "    env[\"WANDB_DOCKER\"] = img\n",
    "\n",
    "    client = docker.from_env()\n",
    "    \n",
    "    emulation = True\n",
    "    if emulation:\n",
    "        container = client.containers.run(img, environment=env, detach=True, auto_remove=True, network_mode='host')\n",
    "    else:\n",
    "        container = client.containers.run(img, environment=env, detach=True, auto_remove=True, network_mode='host', platform='linux/amd64')    \n",
    "    \n",
    "    output = container.attach(stdout=True, stream=True, logs=True)\n",
    "    for line in output:\n",
    "        click.echo(line.decode('utf-8'), nl=False)\n",
    "\n",
    "                    \n",
    "                    \n",
    "def rename_job(job_path, new_name, new_desc):\n",
    "    \"\"\"\n",
    "    Rename the job from the default name to a pretty name and description we define in `registry.yaml`\n",
    "    \"\"\"\n",
    "    art = api.artifact(job_path)\n",
    "    asid = art._attrs['artifactSequence']['id']\n",
    "    \n",
    "    iapi.update_artifact_collection(asid, new_name, new_desc)\n",
    "\n",
    "\n",
    "def add_example_runs(job_art_path, entity, project, queue_name):\n",
    "    \"\"\"\n",
    "    Add example runs for the user to see and easily `Clone from...` in the UI.\n",
    "    \"\"\"\n",
    "    base_launcher = partial(launch_add.launch_add, job=job_art_path, project=project, entity=entity, queue_name=queue_name)\n",
    "    config_paths = Path(f'{jobs_dir}/{jobname}/configs').glob('*.yml')\n",
    "    \n",
    "    for p in config_paths:\n",
    "        with p.open() as f:\n",
    "            config = yaml.safe_load(f)\n",
    "        base_launcher(config={\"overrides\": {\"run_config\": config['config']}}, name=config['run_name'])\n",
    "        \n",
    "\n",
    "def delete_loader_runs():\n",
    "    \"\"\"\n",
    "    Delete the unsightly \"loader\" run\n",
    "    \"\"\"\n",
    "    for run in api.runs(project):\n",
    "        if run.name == LOADER_STR:\n",
    "            run.delete()\n",
    "    \n",
    "\n",
    "def get_registry():\n",
    "    with open('registry.yaml') as f:\n",
    "        return yaml.safe_load(f)\n",
    "\n",
    "def jobname2img(jobname, tag):\n",
    "    return f\"wandb/job_{jobname}:{tag}\"\n",
    "\n",
    "def get_jobnames(jobs_dir):\n",
    "    return [p.stem for p in Path(jobs_dir).glob('*')]\n",
    "\n",
    "def jobname2artname(jobname, tag):\n",
    "    return f\"job-wandb_job_{jobname}_{tag}\"\n",
    "\n",
    "def artname2artpath(artname, entity, project, tag=\"latest\"):\n",
    "    return f'{entity}/{project}/{artname}:{tag}'\n",
    "\n",
    "def get_env(envlist):\n",
    "    env = {}\n",
    "    with open(envlist) as f:\n",
    "        for line in f.read().splitlines():\n",
    "            k, v = line.split('=')\n",
    "            env[k] = v\n",
    "    \n",
    "    return env"
   ]
  },
  {
   "cell_type": "markdown",
   "metadata": {},
   "source": [
    "## Spin up helper resources"
   ]
  },
  {
   "cell_type": "code",
   "execution_count": null,
   "metadata": {},
   "outputs": [],
   "source": [
    "# !docker run -p 3307:3306 -d sakiladb/mysql:latest\n",
    "# !docker build -t tritonserver-wandb jobs/deploy_to_nvidia_triton/server && \\\n",
    "#     docker run --rm --net=host -p 8000:8000 -v $HOME/.aws:/root/.aws:ro -d tritonserver-wandb"
   ]
  },
  {
   "attachments": {},
   "cell_type": "markdown",
   "metadata": {},
   "source": [
    "## Deploy jobs"
   ]
  },
  {
   "cell_type": "code",
   "execution_count": null,
   "metadata": {},
   "outputs": [
    {
     "data": {
      "text/plain": [
       "True"
      ]
     },
     "execution_count": 5,
     "metadata": {},
     "output_type": "execute_result"
    }
   ],
   "source": [
    "import platform\n",
    "is_m1 = platform.machine() == 'arm64' and platform.system() == \"Darwin\"\n",
    "is_m1"
   ]
  },
  {
   "cell_type": "code",
   "execution_count": null,
   "metadata": {},
   "outputs": [
    {
     "name": "stderr",
     "output_type": "stream",
     "text": [
      "\u001b[34m\u001b[1mwandb\u001b[0m: Creating job: megatruong/jobs30/wandb/job_openai_evals:134fcaf3d4b1499e69b426fad803b7e2cca85ab5\n"
     ]
    },
    {
     "name": "stdout",
     "output_type": "stream",
     "text": [
      "b\"wandb: Thanks for trying out the Report API!\\nwandb: For a tutorial, check out https://colab.research.google.com/drive/1CzyJx1nuOS4pdkXa2XPaRQyZdmFmLmXV\\nwandb: \\nwandb: Try out tab completion to see what's available.\\nwandb:   \\xe2\\x88\\x9f everything:    `wr.<tab>`\\nwandb:       \\xe2\\x88\\x9f panels:    `wr.panels.<tab>`\\nwandb:       \\xe2\\x88\\x9f blocks:    `wr.blocks.<tab>`\\nwandb:       \\xe2\\x88\\x9f helpers:   `wr.helpers.<tab>`\\nwandb:       \\xe2\\x88\\x9f templates: `wr.templates.<tab>`\\nwandb:       \\nwandb: For bugs/feature requests, please create an issue on github: https://github.com/wandb/wandb/issues\\n\"\n",
      "b'wandb: Currently logged in as: megatruong. Use `wandb login --relogin` to force relogin\\n'\n",
      "b'wandb: Tracking run with wandb version 0.15.0\\n'\n",
      "b'wandb: Run data is saved locally in /launch/wandb/run-20230428_014937-3rblbzir\\nwandb: Run `wandb offline` to turn off syncing.\\n'\n",
      "b'wandb: Syncing run __loader-delete-me__\\n'\n",
      "b'wandb: \\xe2\\xad\\x90\\xef\\xb8\\x8f View project at https://wandb.ai/megatruong/jobs30\\n'\n",
      "b'wandb: \\xf0\\x9f\\x9a\\x80 View run at https://wandb.ai/megatruong/jobs30/runs/3rblbzir\\n'\n",
      "b'wandb: Waiting for W&B process to finish... (failed 1). Press Control-C to abort syncing.\\n'\n",
      "b'wandb: \\xf0\\x9f\\x9a\\x80 View run __loader-delete-me__ at: https://wandb.ai/megatruong/jobs30/runs/3rblbzir\\nwandb: Synced 4 W&B file(s), 0 media file(s), 2 artifact file(s) and 1 other file(s)\\n'\n",
      "b'wandb: Find logs at: ./wandb/run-20230428_014937-3rblbzir/logs\\n'\n",
      "b'Traceback (most recent call last):\\n  File \"/launch/job.py\", line 497, in <module>\\n    _eval = get_correct_eval_name(run)\\n  File \"/launch/job.py\", line 467, in get_correct_eval_name\\n    _eval = run.config[\"eval\"]\\n  File \"/usr/local/lib/python3.9/site-packages/wandb/sdk/wandb_config.py\", line 130, in __getitem__\\n    return self._items[key]\\nKeyError: \\'eval\\'\\n'\n"
     ]
    },
    {
     "name": "stderr",
     "output_type": "stream",
     "text": [
      "\u001b[34m\u001b[1mwandb\u001b[0m: Renaming job to: OpenAI Evals\n"
     ]
    },
    {
     "ename": "AttributeError",
     "evalue": "'Api' object has no attribute 'update_artifact_collection'",
     "output_type": "error",
     "traceback": [
      "\u001b[0;31m---------------------------------------------------------------------------\u001b[0m",
      "\u001b[0;31mAttributeError\u001b[0m                            Traceback (most recent call last)",
      "Cell \u001b[0;32mIn[6], line 7\u001b[0m\n\u001b[1;32m      5\u001b[0m         load_job(jobname, entity, project, gpu_queue_name, tag)\n\u001b[1;32m      6\u001b[0m     \u001b[39melse\u001b[39;00m:\n\u001b[0;32m----> 7\u001b[0m         load_job(jobname, entity, project, cpu_queue_name, tag)\n\u001b[1;32m      9\u001b[0m delete_loader_runs()\n",
      "Cell \u001b[0;32mIn[1], line 32\u001b[0m, in \u001b[0;36mload_job\u001b[0;34m(jobname, entity, project, queue_name, tag)\u001b[0m\n\u001b[1;32m     30\u001b[0m artpath \u001b[39m=\u001b[39m artname2artpath(artname, entity, project, tag\u001b[39m=\u001b[39m\u001b[39m'\u001b[39m\u001b[39mlatest\u001b[39m\u001b[39m'\u001b[39m)\n\u001b[1;32m     31\u001b[0m wandb\u001b[39m.\u001b[39mtermlog(\u001b[39mf\u001b[39m\u001b[39m\"\u001b[39m\u001b[39mRenaming job to: \u001b[39m\u001b[39m{\u001b[39;00mui_name\u001b[39m}\u001b[39;00m\u001b[39m\"\u001b[39m)\n\u001b[0;32m---> 32\u001b[0m rename_job(artpath, ui_name, ui_desc)\n\u001b[1;32m     34\u001b[0m new_artpath \u001b[39m=\u001b[39m artname2artpath(ui_name, entity, project, tag\u001b[39m=\u001b[39m\u001b[39m'\u001b[39m\u001b[39mlatest\u001b[39m\u001b[39m'\u001b[39m)\n\u001b[1;32m     35\u001b[0m wandb\u001b[39m.\u001b[39mtermlog(\u001b[39m\"\u001b[39m\u001b[39mAdding new example runs...\u001b[39m\u001b[39m\"\u001b[39m)\n",
      "Cell \u001b[0;32mIn[1], line 78\u001b[0m, in \u001b[0;36mrename_job\u001b[0;34m(job_path, new_name, new_desc)\u001b[0m\n\u001b[1;32m     75\u001b[0m art \u001b[39m=\u001b[39m api\u001b[39m.\u001b[39martifact(job_path)\n\u001b[1;32m     76\u001b[0m asid \u001b[39m=\u001b[39m art\u001b[39m.\u001b[39m_attrs[\u001b[39m'\u001b[39m\u001b[39martifactSequence\u001b[39m\u001b[39m'\u001b[39m][\u001b[39m'\u001b[39m\u001b[39mid\u001b[39m\u001b[39m'\u001b[39m]\n\u001b[0;32m---> 78\u001b[0m iapi\u001b[39m.\u001b[39;49mupdate_artifact_collection(asid, new_name, new_desc)\n",
      "\u001b[0;31mAttributeError\u001b[0m: 'Api' object has no attribute 'update_artifact_collection'"
     ]
    }
   ],
   "source": [
    "jobnames = get_jobnames(jobs_dir)\n",
    "for jobname in jobnames:\n",
    "    if is_m1 and jobname == 'sql_query':\n",
    "        continue  # connectorx seems to cause issues with emulation on M1.  If you\n",
    "    if jobname.startswith('gpu_'):\n",
    "        load_job(jobname, entity, project, gpu_queue_name, tag)\n",
    "    else:\n",
    "        load_job(jobname, entity, project, cpu_queue_name, tag)\n",
    "\n",
    "delete_loader_runs()"
   ]
  },
  {
   "attachments": {},
   "cell_type": "markdown",
   "metadata": {},
   "source": [
    "## Delete sagemaker endpoints that were spun up\n",
    "- You may have to run this manually because the jobs above need to actually run before the endpoints are created"
   ]
  },
  {
   "cell_type": "code",
   "execution_count": null,
   "metadata": {},
   "outputs": [],
   "source": [
    "import boto3\n",
    "\n",
    "sagemaker = boto3.client('sagemaker')\n",
    "\n",
    "response = sagemaker.list_endpoints()\n",
    "endpoints = response['Endpoints']\n",
    "\n",
    "for endpoint in endpoints:\n",
    "    try:\n",
    "        sagemaker.delete_endpoint(EndpointName=endpoint['EndpointName'])\n",
    "    except Exception as e:\n",
    "        print(e)"
   ]
  },
  {
   "attachments": {},
   "cell_type": "markdown",
   "metadata": {},
   "source": [
    "## Check to see if any setup runs failed"
   ]
  },
  {
   "cell_type": "code",
   "execution_count": null,
   "metadata": {},
   "outputs": [],
   "source": [
    "api = wandb.Api()\n",
    "for run in api.runs(project):\n",
    "    if run.state == 'failed':\n",
    "        for art in run.used_artifacts():\n",
    "            if art.type == 'job':\n",
    "                job = art.name\n",
    "                break\n",
    "        print(f\"{job}::{run.name} || {run}\")\n",
    "        \n",
    "        "
   ]
  },
  {
   "cell_type": "code",
   "execution_count": null,
   "metadata": {},
   "outputs": [],
   "source": []
  }
 ],
 "metadata": {
  "kernelspec": {
   "display_name": "Python 3",
   "language": "python",
   "name": "python3"
  },
  "language_info": {
   "codemirror_mode": {
    "name": "ipython",
    "version": 3
   },
   "file_extension": ".py",
   "mimetype": "text/x-python",
   "name": "python",
   "nbconvert_exporter": "python",
   "pygments_lexer": "ipython3",
   "version": "3.9.16"
  },
  "orig_nbformat": 4
 },
 "nbformat": 4,
 "nbformat_minor": 2
}
