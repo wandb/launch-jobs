{
 "cells": [
  {
   "cell_type": "code",
   "execution_count": null,
   "metadata": {},
   "outputs": [],
   "source": [
    "!rm -rf wandb\n",
    "\n",
    "import wandb\n",
    "import os\n",
    "from concurrent.futures import ProcessPoolExecutor\n",
    "import random\n",
    "import math\n",
    "\n",
    "PROJECT = 'triton-ensemble-demo'\n",
    "\n",
    "%env WANDB_PROJECT {PROJECT}\n",
    "%env WANDB_ENTITY megatruong\n",
    "\n",
    "config={\n",
    "    \"learning_rate\": 0.01 * random.random(),\n",
    "    \"batch_size\": 128,\n",
    "    \"momentum\": 0.1 * random.random(),\n",
    "    \"dropout\": 0.4 * random.random(),\n",
    "    \"dataset\": [\"hello\", \"world\", 2],\n",
    "    \"model\": \"trained-model\",\n",
    "}\n",
    "\n",
    "\n",
    "def add_refs(target, *sources):\n",
    "    for source in sources:\n",
    "        for name in source.manifest.entries:\n",
    "            ref = source.get_path(name)\n",
    "            art_name, art_ver = source.name.split(':v')\n",
    "            namespaced_fname = f\"{art_name}/{name}\"\n",
    "            target.add_reference(ref, namespaced_fname)\n",
    "            \n",
    "            \n",
    "def log_component_model(component):\n",
    "    with wandb.init(config=config, job_type=f\"generate_{component}\") as run:\n",
    "        EVAL_STEPS = 1000\n",
    "        # Log metrics and checkpoints at N steps\n",
    "        displacement1 = random.random() * 2\n",
    "        displacement2 = random.random() * 4\n",
    "        for step in range(EVAL_STEPS):\n",
    "            run.log({\n",
    "                \"acc\": .1 + 0.4 * (math.log(1 + step + random.random()) + random.random() * run.config.learning_rate + random.random() + displacement1 + random.random() * run.config.momentum),\n",
    "                \"val_acc\": .1 + 0.5 * (math.log(1 + step + random.random()) + random.random() * run.config.learning_rate - random.random() + displacement1),\n",
    "                \"loss\": .1 + 0.08 * (3.5 - math.log(1 + step + random.random()) + random.random() * run.config.momentum + random.random() + displacement2),\n",
    "                \"val_loss\": .1 + 0.04 * (4.5 - math.log(1 + step + random.random()) + random.random() * run.config.learning_rate - random.random() + displacement2),\n",
    "            })\n",
    "        art = wandb.Artifact(component, type='model')\n",
    "        art.add_dir(f'ensemble_model/{component}')\n",
    "        run.log_artifact(art)\n",
    "        run.link_artifact(art, \"model-registry/Text Detection\")\n",
    "        \n",
    "\n",
    "def log_packaged_model(components):\n",
    "    with wandb.init(job_type=\"package_components\") as run:\n",
    "        art = wandb.Artifact('ensemble_model', type='model')\n",
    "        art.add_dir('ensemble_model')\n",
    "        arts = [run.use_artifact(f\"{component}:latest\") for component in components]\n",
    "        add_refs(art, *arts)\n",
    "        run.log_artifact(art)\n",
    "        run.log_code()\n",
    "        \n",
    "\n",
    "def log_component_models(components):\n",
    "    for x in components:\n",
    "        log_component_model(x)\n",
    "    # with ProcessPoolExecutor() as executor:\n",
    "    #     executor.map(log_component_model, components)\n",
    "        \n",
    "        \n",
    "ensemble_components = ['detection_preprocessing', 'text_detection', 'detection_postprocessing', 'text_recognition', 'recognition_postprocessing']\n",
    "\n",
    "log_component_models(ensemble_components)\n",
    "# log_packaged_model(ensemble_components)\n",
    "# deploy_to_triton('ensemble_model')"
   ]
  },
  {
   "cell_type": "code",
   "execution_count": null,
   "metadata": {},
   "outputs": [],
   "source": [
    "# !export WANDB_PROJECT={PROJECT} && rm -rf wandb && python log_component_model.py && rm -rf wandb && python log_packaged_model.py"
   ]
  },
  {
   "cell_type": "code",
   "execution_count": null,
   "metadata": {},
   "outputs": [],
   "source": [
    "wandb.api.api_key"
   ]
  },
  {
   "cell_type": "code",
   "execution_count": null,
   "metadata": {},
   "outputs": [],
   "source": []
  }
 ],
 "metadata": {
  "kernelspec": {
   "display_name": "pylaunch39",
   "language": "python",
   "name": "python3"
  },
  "language_info": {
   "codemirror_mode": {
    "name": "ipython",
    "version": 3
   },
   "file_extension": ".py",
   "mimetype": "text/x-python",
   "name": "python",
   "nbconvert_exporter": "python",
   "pygments_lexer": "ipython3",
   "version": "3.10.11"
  },
  "orig_nbformat": 4
 },
 "nbformat": 4,
 "nbformat_minor": 2
}
