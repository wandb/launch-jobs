{
 "cells": [
  {
   "cell_type": "markdown",
   "metadata": {},
   "source": [
    "# Testing endpoints\n",
    "\n",
    "1. Fill out the Azure-specific `subscription_id`, `resource_group` and `workspace` variables in the cell below.\n",
    "2. Fill out the specific `endpoint_name` and `deployment_name` you want to test"
   ]
  },
  {
   "cell_type": "code",
   "execution_count": null,
   "metadata": {},
   "outputs": [],
   "source": [
    "from azure.ai.ml import MLClient\n",
    "from azure.identity import DefaultAzureCredential\n",
    "\n",
    "subscription_id = \"...\"\n",
    "resource_group = \"...\"\n",
    "workspace = \"...\"\n",
    "\n",
    "\n",
    "ml_client = MLClient(\n",
    "    DefaultAzureCredential(), subscription_id, resource_group, workspace\n",
    ")"
   ]
  },
  {
   "cell_type": "markdown",
   "metadata": {},
   "source": [
    "## Test PyTorch"
   ]
  },
  {
   "cell_type": "code",
   "execution_count": null,
   "metadata": {},
   "outputs": [],
   "source": [
    "import torch\n",
    "\n",
    "endpoint_name = \"...\"\n",
    "deployment_name = \"...\"\n",
    "\n",
    "t = torch.randn(1, 3, 224, 224)  # Replace with your model input shape\n",
    "with open(\"sample-request.json\", \"w\") as f:\n",
    "    f.write(f'{{\"data\": {t.tolist()}}}')\n",
    "\n",
    "ml_client.online_endpoints.invoke(\n",
    "    endpoint_name=endpoint_name,\n",
    "    deployment_name=deployment_name,\n",
    "    request_file=\"sample-request.json\",\n",
    ")"
   ]
  },
  {
   "cell_type": "markdown",
   "metadata": {},
   "source": [
    "## Test Tensorflow/ONNX"
   ]
  },
  {
   "cell_type": "code",
   "execution_count": null,
   "metadata": {},
   "outputs": [],
   "source": [
    "import json\n",
    "\n",
    "import numpy as np\n",
    "\n",
    "endpoint_name = \"...\"\n",
    "deployment_name = \"...\"\n",
    "\n",
    "def numpify(t: torch.Tensor) -> np.ndarray:\n",
    "    \"\"\"Tensorflow and ONNX models expect NHWC format, but PyTorch uses NCHW.\n",
    "    This function converts a PyTorch tensor to Numpy, and transposes the axes\"\"\"\n",
    "    a = t.numpy()\n",
    "    return np.transpose(a, (0, 2, 3, 1))\n",
    "\n",
    "\n",
    "t = torch.randn(1, 3, 224, 224)  # Replace with your model input shape\n",
    "t = numpify(t)\n",
    "with open(\"sample-request.json\", \"w\") as f:\n",
    "    json.dump({\"data\": t.tolist()}, f)\n",
    "\n",
    "ml_client.online_endpoints.invoke(\n",
    "    endpoint_name=endpoint_name,\n",
    "    deployment_name=deployment_name,\n",
    "    request_file=\"sample-request.json\",\n",
    ")"
   ]
  },
  {
   "cell_type": "code",
   "execution_count": null,
   "metadata": {},
   "outputs": [],
   "source": []
  }
 ],
 "metadata": {
  "kernelspec": {
   "display_name": "azuredeploy311",
   "language": "python",
   "name": "python3"
  },
  "language_info": {
   "codemirror_mode": {
    "name": "ipython",
    "version": 3
   },
   "file_extension": ".py",
   "mimetype": "text/x-python",
   "name": "python",
   "nbconvert_exporter": "python",
   "pygments_lexer": "ipython3",
   "version": "3.11.7"
  }
 },
 "nbformat": 4,
 "nbformat_minor": 2
}
